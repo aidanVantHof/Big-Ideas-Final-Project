{
 "cells": [
  {
   "cell_type": "code",
   "execution_count": 5,
   "metadata": {},
   "outputs": [
    {
     "name": "stdout",
     "output_type": "stream",
     "text": [
      "Current Working Directory: /home/jupyter-kms475/Final-Project\n"
     ]
    },
    {
     "ename": "FileNotFoundError",
     "evalue": "[Errno 2] No such file or directory: 'Final-Project'",
     "output_type": "error",
     "traceback": [
      "\u001b[0;31m---------------------------------------------------------------------------\u001b[0m",
      "\u001b[0;31mFileNotFoundError\u001b[0m                         Traceback (most recent call last)",
      "\u001b[0;32m<ipython-input-5-ba2d8f9e6346>\u001b[0m in \u001b[0;36m<module>\u001b[0;34m\u001b[0m\n\u001b[1;32m      5\u001b[0m \u001b[0mprint\u001b[0m\u001b[0;34m(\u001b[0m\u001b[0;34m\"Current Working Directory:\"\u001b[0m\u001b[0;34m,\u001b[0m \u001b[0mcurrent_dir\u001b[0m\u001b[0;34m)\u001b[0m\u001b[0;34m\u001b[0m\u001b[0;34m\u001b[0m\u001b[0m\n\u001b[1;32m      6\u001b[0m \u001b[0;34m\u001b[0m\u001b[0m\n\u001b[0;32m----> 7\u001b[0;31m \u001b[0mos\u001b[0m\u001b[0;34m.\u001b[0m\u001b[0mchdir\u001b[0m\u001b[0;34m(\u001b[0m\u001b[0;34m'Final-Project'\u001b[0m\u001b[0;34m)\u001b[0m\u001b[0;34m\u001b[0m\u001b[0;34m\u001b[0m\u001b[0m\n\u001b[0m\u001b[1;32m      8\u001b[0m \u001b[0;34m\u001b[0m\u001b[0m\n\u001b[1;32m      9\u001b[0m \u001b[0mnew_dir\u001b[0m \u001b[0;34m=\u001b[0m \u001b[0mos\u001b[0m\u001b[0;34m.\u001b[0m\u001b[0mgetcwd\u001b[0m\u001b[0;34m(\u001b[0m\u001b[0;34m)\u001b[0m\u001b[0;34m\u001b[0m\u001b[0;34m\u001b[0m\u001b[0m\n",
      "\u001b[0;31mFileNotFoundError\u001b[0m: [Errno 2] No such file or directory: 'Final-Project'"
     ]
    }
   ],
   "source": [
    "import pandas as pd\n",
    "import os\n",
    "\n",
    "current_dir = os.getcwd()\n",
    "print(\"Current Working Directory:\", current_dir)\n",
    "\n",
    "os.chdir('Final-Project')\n",
    "\n",
    "new_dir = os.getcwd()\n",
    "print(\"New Working Directory:\", new_dir)\n",
    "\n",
    "df = pd.read_csv('community-facilities-dataset.csv')\n",
    "\n",
    "neighborhood_facility_count = df.groupby('neighborhood')['facility_name'].count().reset_index()\n",
    "\n",
    "neighborhood_facility_count.columns = ['neighborhood', 'facility_count']\n",
    "\n",
    "print(neighborhood_facility_count)"
   ]
  },
  {
   "cell_type": "code",
   "execution_count": 6,
   "metadata": {},
   "outputs": [
    {
     "name": "stdout",
     "output_type": "stream",
     "text": [
      "Perry South 27\n",
      "Homewood North 23\n",
      "Homewood South 23\n",
      "Homewood West 23\n",
      "Central North Side 21\n",
      "Manchester 19\n",
      "Perry North 19\n",
      "Shadland Halls Grove 19\n",
      "Squirrel Hill - North of Forbes 19\n",
      "Squirrel Hill - South of Forbes 19\n",
      "Allegheny Center 17\n",
      "Brighton Heights 16\n",
      "Garfield 16\n",
      "Allegheny West 15\n",
      "California Ave 15\n",
      "Hazelwood-Glenwood-Glen Hazel 15\n",
      "East Liberty 14\n",
      "Mount Washington - Duquesne Heights 14\n",
      "Bloomfield 13\n",
      "Larimer 13\n",
      "Lower Lawrenceville 13\n",
      "Northview Heights 13\n",
      "Southside Flats 13\n",
      "The Strip 13\n",
      "Troy Hill 13\n",
      "Upper Lawrenceville 13\n",
      "Beechview 12\n",
      "Harpen Hilltop 12\n",
      "Lawrenceville 12\n",
      "Lower Oakland 12\n",
      "Point Breeze 12\n",
      "Spring Hill 12\n",
      "Brookline 11\n",
      "Carrick 11\n",
      "East North Side 11\n",
      "Highland Park 11\n",
      "Lincoln-Leminton-Belmar 11\n",
      "Middle Hill 11\n",
      "South Oakland 11\n",
      "The Bluff 11\n",
      "Crafton Heights - Westwood - Oakwood 10\n",
      "Greenfield 10\n",
      "Polish Hill 10\n",
      "Shadyside 10\n",
      "Terrace Village 10\n",
      "Bedford Dwellings 9\n",
      "East Brookline - Overbrook 9\n",
      "Elliot 9\n",
      "Morningside 9\n",
      "North Oakland 9\n",
      "Sheraton Chartiers 9\n",
      "West End Valley 9\n",
      "East Hills 8\n",
      "Friendship 8\n",
      "Regent Square 8\n",
      "Southside Slopes 8\n",
      "Stanton Heights 8\n",
      "Upper Hill 8\n",
      "31st Ward 7\n",
      "Arlington Heights 7\n",
      "Beltzhoover 7\n",
      "East Carnegie 7\n",
      "Knoxville 7\n",
      "Arlington 6\n",
      "Banksville 6\n",
      "Esplen 6\n",
      "St. Clair 6\n",
      "Allentown 5\n",
      "Ridgemont - Chicken Hill 5\n",
      "Swisshelm Park 5\n",
      "Bon Air 4\n"
     ]
    }
   ],
   "source": [
    "# imports pandas and sets park to the file contents\n",
    "import pandas as pd\n",
    "park = pd.read_csv(\"community-facilities-dataset.csv\")\n",
    "\n",
    "\n",
    "# creates a dictionary\n",
    "dictionary = dict()\n",
    "\n",
    "# iterates through the rows of neighborhood column\n",
    "for index, row in park.iterrows():\n",
    "    name = row[\"neighborhood\"]\n",
    "    \n",
    "    # if new neighborhood is seen for the first time, it gets added to the dictionary as a key\n",
    "    if name not in dictionary:\n",
    "        dictionary[name] = 1\n",
    "    # if duplicate neighborhood is seen, a value is added\n",
    "    else:\n",
    "        dictionary[name] +=1\n",
    "\n",
    "# this sorts the dictioanry in decending order based on the value assigned to the key\n",
    "sortedDictionary = sorted(dictionary, key = dictionary.get, reverse = True)\n",
    "# for every key in the sorted version of the dictionary it prints out the key and the value\n",
    "for key in sortedDictionary:\n",
    "    print(key, dictionary[key])"
   ]
  },
  {
   "cell_type": "code",
   "execution_count": null,
   "metadata": {},
   "outputs": [],
   "source": []
  }
 ],
 "metadata": {
  "kernelspec": {
   "display_name": "Python 3",
   "language": "python",
   "name": "python3"
  },
  "language_info": {
   "codemirror_mode": {
    "name": "ipython",
    "version": 3
   },
   "file_extension": ".py",
   "mimetype": "text/x-python",
   "name": "python",
   "nbconvert_exporter": "python",
   "pygments_lexer": "ipython3",
   "version": "3.8.3"
  }
 },
 "nbformat": 4,
 "nbformat_minor": 4
}

{
 "cells": [
  {
   "cell_type": "markdown",
   "metadata": {},
   "source": [
    "**Goal:**\n",
    "The goal of this data is to use arrests in each neighborhood since 2016 to find which neighborhoods you are lest likely to be in the proximity of an arrest. While this does not show how likely you are to be a target of a crime as it does not account for population, it gives a general sense of safety as it shows how often you will be close to crimes.\n",
    "\n",
    "**Dataset Conclusion:**\n",
    "The neighborhoods where the least number of arrests occur are Troy Hill-Herrs Island, Mt. Oliver Boro, and Central Northside which have 6,18, and 23 arrests respectively. Mt. Oliver Niehgborhood was disincluded from the data as it is likely a misinput and is probably meant to just be Mount Oliver. Squirrel Hill South was chosen by my group as the overall winner despite a relatively low placement by my metric. This is likely in part due to the size of Squirrel Hill South being much larger than most neighborhoods."
   ]
  },
  {
   "cell_type": "code",
   "execution_count": 1,
   "metadata": {},
   "outputs": [
    {
     "name": "stdout",
     "output_type": "stream",
     "text": [
      "Mt. Oliver Neighborhood 2\n",
      "Troy Hill-Herrs Island 6\n",
      "Mt. Oliver Boro 18\n",
      "Central Northside 23\n",
      "Regent Square 36\n",
      "Ridgemont 37\n",
      "New Homestead 39\n",
      "Swisshelm Park 42\n",
      "Chartiers City 44\n",
      "East Carnegie 48\n",
      "St. Clair 53\n",
      "Outside County 55\n",
      "Outside State 64\n",
      "Summer Hill 74\n",
      "Oakwood 80\n",
      "Golden Triangle/Civic Arena 83\n",
      "Hays 118\n",
      "Fairywood 122\n",
      "Mount Oliver 123\n",
      "Windgap 123\n",
      "Allegheny West 127\n",
      "Arlington Heights 153\n",
      "Polish Hill 162\n",
      "Glen Hazel 164\n",
      "Friendship 169\n",
      "Morningside 185\n",
      "Upper Lawrenceville 187\n",
      "Duquesne Heights 187\n",
      "Esplen 198\n",
      "Spring Garden 213\n",
      "Stanton Heights 219\n",
      "Westwood 222\n",
      "Lincoln Place 222\n",
      "Bon Air 261\n",
      "Lower Lawrenceville 264\n",
      "Point Breeze North 279\n",
      "West End 281\n",
      "Squirrel Hill North 285\n",
      "Banksville 288\n",
      "Terrace Village 292\n",
      "South Shore 294\n",
      "Point Breeze 297\n",
      "Arlington 302\n",
      "California-Kirkbride 304\n",
      "Outside City 309\n",
      "West Oakland 312\n",
      "Overbrook 321\n",
      "South Oakland 346\n",
      "Upper Hill 364\n",
      "Central Lawrenceville 425\n",
      "Troy Hill 427\n",
      "North Oakland 434\n",
      "Chateau 448\n",
      "Manchester 459\n",
      "Beltzhoover 489\n",
      "Strip District 492\n",
      "Central Oakland 512\n",
      "Greenfield 531\n",
      "Highland Park 549\n",
      "Perry North 585\n",
      "Crafton Heights 587\n",
      "Elliott 650\n",
      "Bedford Dwellings 656\n",
      "Northview Heights 697\n",
      "Spring Hill-City View 702\n",
      "Garfield 707\n",
      "Homewood West 753\n",
      "Fineview 789\n",
      "South Side Slopes 789\n",
      "North Shore 796\n",
      "Squirrel Hill South 808\n",
      "Crawford-Roberts 810\n",
      "Central North Side 831\n",
      "Larimer 865\n",
      "Middle Hill 920\n",
      "Allentown 930\n",
      "Shadyside 951\n",
      "Bloomfield 972\n",
      "Perry South 1041\n",
      "Brighton Heights 1095\n",
      "East Hills 1162\n",
      "Beechview 1167\n",
      "Allegheny Center 1228\n",
      "Sheraden 1258\n",
      "Knoxville 1302\n",
      "Lincoln-Lemington-Belmar 1321\n",
      "Brookline 1346\n",
      "Hazelwood 1366\n",
      "Mount Washington 1414\n",
      "Bluff 1463\n",
      "Marshall-Shadeland 1491\n",
      "East Liberty 1856\n",
      "Homewood North 1932\n",
      "Homewood South 2049\n",
      "East Allegheny 2156\n",
      "Carrick 2301\n",
      "nan 2438\n",
      "South Side Flats 3386\n",
      "Central Business District 4257\n"
     ]
    }
   ],
   "source": [
    "import pandas as pd\n",
    "#takes in arrest data\n",
    "policeData = pd.read_csv(\"PittsburghArrests.csv\")\n",
    "neighborhoods = dict()\n",
    "#goes through arrest data and connects each neighborhood to the total number of arrests reported there\n",
    "for index, row in policeData.iterrows():\n",
    "    if row[\"INCIDENTNEIGHBORHOOD\"] in neighborhoods:\n",
    "        neighborhoods[row[\"INCIDENTNEIGHBORHOOD\"]] = neighborhoods[row[\"INCIDENTNEIGHBORHOOD\"]] + 1\n",
    "    else:\n",
    "        neighborhoods[row[\"INCIDENTNEIGHBORHOOD\"]] = 1\n",
    "#sorts neighborhoods from least to most arrests\n",
    "sortedNeighborhoods = sorted(neighborhoods.items(), key=lambda x:x[1])\n",
    "#puts sorted neighborhoods into dictionary\n",
    "dictSortedNeighborhoods = dict(sortedNeighborhoods)\n",
    "#outputs the sorted list of neighborhoods\n",
    "for place in dictSortedNeighborhoods:\n",
    "    print(place, dictSortedNeighborhoods[place])"
   ]
  },
  {
   "cell_type": "code",
   "execution_count": 23,
   "metadata": {},
   "outputs": [
    {
     "data": {
      "text/plain": [
       "<matplotlib.axes._subplots.AxesSubplot at 0x7f96ebaee9a0>"
      ]
     },
     "execution_count": 23,
     "metadata": {},
     "output_type": "execute_result"
    },
    {
     "data": {
      "image/png": "[encoded data removed]",
      "text/plain": [
       "<Figure size 432x288 with 1 Axes>"
      ]
     },
     "metadata": {
      "needs_background": "light"
     },
     "output_type": "display_data"
    }
   ],
   "source": [
    "import matplotlib.pyplot as plt\n",
    "import matplotlib.pyplot as plt2\n",
    "import numpy as np\n",
    "%matplotlib inline\n",
    "# Plots the 10 neighborhoods with the lowest crime in Pittsburgh excluding the mistakenly emptied neighborhood at the start\n",
    "pd.Series(list(dictSortedNeighborhoods.values())[1:11], index=list(dictSortedNeighborhoods.keys())[1:11]).plot.bar()"
   ]
  },
  {
   "cell_type": "code",
   "execution_count": 22,
   "metadata": {},
   "outputs": [
    {
     "data": {
      "text/plain": [
       "<matplotlib.axes._subplots.AxesSubplot at 0x7f96ebd5a100>"
      ]
     },
     "execution_count": 22,
     "metadata": {},
     "output_type": "execute_result"
    },
    {
     "data": {
      "image/png": "[encoded data removed]",
      "text/plain": [
       "<Figure size 432x288 with 1 Axes>"
      ]
     },
     "metadata": {
      "needs_background": "light"
     },
     "output_type": "display_data"
    }
   ],
   "source": [
    "# This bar graph gives a general feel for the data, and while \n",
    "pd.Series(list(dictSortedNeighborhoods.values())).plot.bar()"
   ]
  },
  {
   "cell_type": "code",
   "execution_count": null,
   "metadata": {},
   "outputs": [],
   "source": []
  }
 ],
 "metadata": {
  "kernelspec": {
   "display_name": "Python 3",
   "language": "python",
   "name": "python3"
  },
  "language_info": {
   "codemirror_mode": {
    "name": "ipython",
    "version": 3
   },
   "file_extension": ".py",
   "mimetype": "text/x-python",
   "name": "python",
   "nbconvert_exporter": "python",
   "pygments_lexer": "ipython3",
   "version": "3.8.3"
  }
 },
 "nbformat": 4,
 "nbformat_minor": 4
}

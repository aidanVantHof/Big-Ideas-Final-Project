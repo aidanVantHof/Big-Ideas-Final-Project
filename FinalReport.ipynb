{
 "cells": [
  {
   "cell_type": "markdown",
   "metadata": {},
   "source": [
    "**Introduction:**\n",
    "     Project: Goal to find the most desirable neighborhood to live in for a certain group.\n",
    "     Approach: Discussed many different types of people that we could cater to including families, college students, those who liked                nature etc.\n",
    "     Process: We first looked through the data sets and found connections between data sets. We found many data sets including crime      reports, number of parks, and number of community facilities that all have a common thread. They would be appealing to know for      families that have children that are looking for a neighborhood that is safe and has places for their children to play.\n",
    "\n",
    "**Personal Metrics:**\n",
    "Neighborhood with largest amount of playground/parks.\n",
    "Neighborhood with largest amount of community facilities.\n",
    "Neighborhood with least amount of crime reports.\n",
    "\n",
    "**Combined Metric:**\n",
    "What is the best neighborhood for a family with children who are looking for a safe and fun environment to raise their children.\n",
    "\n",
    "**Best Neighborhood:**\n",
    "All in all, the best neighborhood would be Squirrel Hill South. Putting all the data into a spreadsheet, each neighborhood was given a score based on their position in each of the three categories. The scores were added up in order to find the average score. This average score was then used to make a new ranking of the best neighborhoods. Squirrel Hill South came in with the lowest average score of 28. The second best neighborhood was Allegheny Center at a score of 33.33 with Highland Park placing 3rd with a score of 34.444.\n",
    "\n",
    "**Conclusion:**\n",
    "\n",
    "Aidan: While my personal favorite neighborhood from this list was Highland Park with a good balance of all three metrics and a seemingly quiter neighborhood than Squirrel Hill South, it ended up having a worse score because it has less parks and facilities compared to Squirrel Hill South. This leads me to believe that while the data driven determination is helpful to observe the differences and strengths of neighborhoods, it is not an end all be all for picking the best neighborhood to raise children.\n",
    "\n",
    "Ian: My personal favorite neighborhood was Beechview due to it's high number of parks and recreation centers. This neighborhood was dragged down in the rankings due to its higher poor preformance in the ranking of arrests but is all around a pretty good neighborhood of Pittsburgh. The system we created is a general outline for ranking neighborhoods, but there are exceptions to it and some neighborhoods may be deserving of a higher or lower ranking. While by my own metric Troy Hill-Herrs Island was the best neighborhood, its poor performance in the other categories lead me to not selecting it as a personal favorite.\n",
    "\n",
    "Kiro: According to my personal metric, the best neighborhood is Perry South leading all other neighborhoods with 27 community facilities."
   ]
  },
  {
   "cell_type": "code",
   "execution_count": null,
   "metadata": {},
   "outputs": [],
   "source": [
    "# imports pandas and sets park to the file contents\n",
    "import pandas as pd\n",
    "park = pd.read_csv(\"PLACE HOLDER\")\n",
    "\n",
    "\n",
    "# creates a dictionary\n",
    "dictionary = dict()\n",
    "\n",
    "# iterates through the rows of ROW PLACE HOLDER column\n",
    "for index, row in park.iterrows():\n",
    "    name = row[\"ROW PLACE HOLDER\"]\n",
    "    \n",
    "    # if new neighborhood is seen for the first time, it gets added to the dictionary as a key\n",
    "    if name not in dictionary:\n",
    "        dictionary[name] = 1\n",
    "    # if duplicate neighborhood is seen, a value is added\n",
    "    else:\n",
    "        dictionary[name] +=1\n",
    "\n",
    "# this sorts the dictioanry in decending order based on the value assigned to the key\n",
    "sortedDictionary = sorted(dictionary, key = dictionary.get, reverse = True)\n",
    "# for every key in the sorted version of the dictionary it prints out the key and the value\n",
    "for key in sortedDictionary:\n",
    "    print(key, dictionary[key])"
   ]
  }
 ],
 "metadata": {
  "kernelspec": {
   "display_name": "Python 3",
   "language": "python",
   "name": "python3"
  },
  "language_info": {
   "codemirror_mode": {
    "name": "ipython",
    "version": 3
   },
   "file_extension": ".py",
   "mimetype": "text/x-python",
   "name": "python",
   "nbconvert_exporter": "python",
   "pygments_lexer": "ipython3",
   "version": "3.8.3"
  }
 },
 "nbformat": 4,
 "nbformat_minor": 4
}
